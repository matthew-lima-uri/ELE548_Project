{
 "cells": [
  {
   "cell_type": "code",
   "execution_count": 1,
   "id": "64795c02",
   "metadata": {},
   "outputs": [],
   "source": [
    "from pynq import Overlay\n",
    "from pynq import allocate\n",
    "import numpy as np\n",
    "from mnist_driver import MNISTDriver\n",
    "import time"
   ]
  },
  {
   "cell_type": "markdown",
   "id": "f3ed2c80",
   "metadata": {},
   "source": [
    "**Load the overlay**"
   ]
  },
  {
   "cell_type": "code",
   "execution_count": 2,
   "id": "54175de3",
   "metadata": {},
   "outputs": [
    {
     "data": {
      "application/javascript": [
       "\n",
       "try {\n",
       "require(['notebook/js/codecell'], function(codecell) {\n",
       "  codecell.CodeCell.options_default.highlight_modes[\n",
       "      'magic_text/x-csrc'] = {'reg':[/^%%microblaze/]};\n",
       "  Jupyter.notebook.events.one('kernel_ready.Kernel', function(){\n",
       "      Jupyter.notebook.get_cells().map(function(cell){\n",
       "          if (cell.cell_type == 'code'){ cell.auto_highlight(); } }) ;\n",
       "  });\n",
       "});\n",
       "} catch (e) {};\n"
      ]
     },
     "metadata": {},
     "output_type": "display_data"
    },
    {
     "data": {
      "application/javascript": [
       "\n",
       "try {\n",
       "require(['notebook/js/codecell'], function(codecell) {\n",
       "  codecell.CodeCell.options_default.highlight_modes[\n",
       "      'magic_text/x-csrc'] = {'reg':[/^%%pybind11/]};\n",
       "  Jupyter.notebook.events.one('kernel_ready.Kernel', function(){\n",
       "      Jupyter.notebook.get_cells().map(function(cell){\n",
       "          if (cell.cell_type == 'code'){ cell.auto_highlight(); } }) ;\n",
       "  });\n",
       "});\n",
       "} catch (e) {};\n"
      ]
     },
     "metadata": {},
     "output_type": "display_data"
    },
    {
     "name": "stdout",
     "output_type": "stream",
     "text": [
      "Initial control register:  4\n",
      "Updated control register:  129\n"
     ]
    }
   ],
   "source": [
    "ol = Overlay(\"/home/xilinx/pynq/overlays/mnist/mnist.bit\")\n",
    "hw = ol.mnist"
   ]
  },
  {
   "cell_type": "markdown",
   "id": "76aaf2c2",
   "metadata": {},
   "source": [
    "**Load the testing data**"
   ]
  },
  {
   "cell_type": "code",
   "execution_count": 3,
   "id": "90959218",
   "metadata": {},
   "outputs": [],
   "source": [
    "with open('mnist_images.npy', 'rb') as f:\n",
    "    images = np.load(f)\n",
    "with open('mnist_results.npy', 'rb') as f:\n",
    "    results = np.load(f)\n",
    "# Load the weights and biases for the software test\n",
    "hidden_weights = np.load('hidden_layer_weights.npy')\n",
    "hidden_biases = np.load('hidden_layer_biases.npy')\n",
    "output_weights = np.load('output_layer_weights.npy')\n",
    "output_biases = np.load('output_layer_biases.npy')\n",
    "\n",
    "# Helper function\n",
    "def within_std(arr, val):\n",
    "    std = np.std(arr)\n",
    "    count = 0\n",
    "    for num in arr:\n",
    "        if (val < num < (val + std)) or ((val - std) < num < val):\n",
    "            count = count + 1\n",
    "    return count"
   ]
  },
  {
   "cell_type": "markdown",
   "id": "7ded2a06",
   "metadata": {},
   "source": [
    "**FPGA Accuracy Test**"
   ]
  },
  {
   "cell_type": "code",
   "execution_count": 4,
   "id": "a3ad9430",
   "metadata": {},
   "outputs": [
    {
     "name": "stdout",
     "output_type": "stream",
     "text": [
      "FPGA Accuracy: 94.82948294829482%\n",
      "Time elapsed: 11.398129940032959\n"
     ]
    }
   ],
   "source": [
    "test_images = images[-10000:-1]\n",
    "test_results = results[-10000:-1]\n",
    "result = allocate(shape=((10,)), dtype=np.uint8)\n",
    "total_correct = 0\n",
    "total_test_images = len(test_results)\n",
    "\n",
    "# Create the memory structure needed for FPGA inference\n",
    "input_images = allocate(shape=((total_test_images, 28*28)), dtype=np.int32)\n",
    "results = allocate(shape=((total_test_images, 10)), dtype=np.int32)\n",
    "for i in range(total_test_images):\n",
    "    input_images[i] = test_images[i].flatten().astype(np.int32)\n",
    "\n",
    "start = time.time()\n",
    "hw.batch_inference(input_images, results)\n",
    "end = time.time()\n",
    "for itr, result in enumerate(results):\n",
    "    if test_results[itr] == np.argmax(result):\n",
    "        total_correct = total_correct + 1\n",
    "\n",
    "print(\"FPGA Accuracy: \" + str((total_correct / total_test_images) * 100) + \"%\")\n",
    "print(\"Time elapsed: \" + str(end - start))\n",
    "del(input_images)\n",
    "del(results)"
   ]
  },
  {
   "cell_type": "markdown",
   "id": "5128b984",
   "metadata": {},
   "source": [
    "**Software Accuracy Test**"
   ]
  },
  {
   "cell_type": "code",
   "execution_count": 5,
   "id": "ed976a04",
   "metadata": {},
   "outputs": [
    {
     "name": "stdout",
     "output_type": "stream",
     "text": [
      "0 software images processed!\n",
      "1000 software images processed!\n",
      "2000 software images processed!\n",
      "3000 software images processed!\n",
      "4000 software images processed!\n",
      "5000 software images processed!\n",
      "6000 software images processed!\n",
      "7000 software images processed!\n",
      "8000 software images processed!\n",
      "9000 software images processed!\n",
      "Accuracy of the software model: 94.82948294829482%\n",
      "Total time taken for the software model: 13.534584999084473\n"
     ]
    }
   ],
   "source": [
    "def relu(vec):\n",
    "    return np.maximum(vec, 0)\n",
    "\n",
    "def inference(image):\n",
    "\n",
    "    # Flatten the input\n",
    "    image = image.flatten()\n",
    "\n",
    "    # Calculate the hidden layer output\n",
    "    hidden_layer = np.matmul(image.astype(np.int32), hidden_weights.T.astype(np.int32)) + hidden_biases\n",
    "    hidden_layer = relu(hidden_layer)\n",
    "\n",
    "    # Calculate the output layer\n",
    "    output_layer = np.matmul(hidden_layer.astype(np.int32), output_weights.T.astype(np.int32)) + output_biases\n",
    "\n",
    "    return np.argmax(output_layer)\n",
    "\n",
    "def calculate_sw(images):\n",
    "    total_software = 0\n",
    "    total_software_incorrect = 0\n",
    "    sw_start = time.time()\n",
    "    for i, img in enumerate(images):\n",
    "        sw_guess = inference(img)\n",
    "        if sw_guess == test_results[i]:\n",
    "            total_software = total_software + 1\n",
    "        else:\n",
    "            total_software_incorrect = total_software_incorrect + 1\n",
    "        if i % 1000 == 0:\n",
    "            sw_end = time.time()\n",
    "            print(str(i) + \" software images processed!\")\n",
    "            sw_start = sw_end\n",
    "    return total_software, total_software_incorrect\n",
    "\n",
    "\n",
    "start_sw_time = time.time()\n",
    "total_software, total_software_incorrect = calculate_sw(images=test_images)\n",
    "end_sw_time = time.time()\n",
    "print(\"Accuracy of the software model: \" + str((total_software / len(test_images)) * 100) + \"%\")\n",
    "print(\"Total time taken for the software model: \" + str(end_sw_time - start_sw_time))\n",
    "del(test_images)\n",
    "del(test_results)"
   ]
  },
  {
   "cell_type": "markdown",
   "id": "1fbf62ca",
   "metadata": {},
   "source": [
    "**FPGA Performance Test**"
   ]
  },
  {
   "cell_type": "code",
   "execution_count": 6,
   "id": "0ac444aa",
   "metadata": {},
   "outputs": [
    {
     "name": "stdout",
     "output_type": "stream",
     "text": [
      "Beginning FPGA performance test.\n",
      "Time taken for the FPGA performance test: 497.5825250148773\n",
      "Time for each iteration: 19.903343276977537\n",
      "Number of performance samples collected: 25\n",
      "Average performance: 0.08942595310652393 G-OPS\n",
      "Maximum performance: 0.09025376743452776 G-OPS\n",
      "Standard deviation of performance: 0.00019017981218042769 G-OPS\n",
      "Number of samples within 1 standard deviation of the mean performance: 23\n",
      "Number of entries within 1 standard deviation of the maximum performance: 0\n"
     ]
    }
   ],
   "source": [
    "# Create the memory structure needed for FPGA inference\n",
    "performace_input_len = int(len(images) / 4)\n",
    "input_images = allocate(shape=((performace_input_len, 28*28)), dtype=np.int32)\n",
    "results = allocate(shape=((performace_input_len, 10)), dtype=np.int32)\n",
    "for i in range(performace_input_len):\n",
    "    input_images[i] = images[i].flatten().astype(np.int32)\n",
    "\n",
    "int_ops = 101756 - 50 # This is the floating point operations - softmax operations from NN_Evaluation script.\n",
    "def fpga_performance_test():\n",
    "    performance_start_time = time.time_ns()\n",
    "    hw.batch_inference(input_images, results)\n",
    "    performance_end_time  = time.time_ns()\n",
    "    performance_time = (performance_end_time - performance_start_time) / 10**9\n",
    "    return ((int_ops * performace_input_len) / performance_time) / (10**9)\n",
    "\n",
    "print(\"Beginning FPGA performance test.\")\n",
    "p_test_length = time.time()\n",
    "performance_score = []\n",
    "for i in range(25):\n",
    "    performance_score.append(fpga_performance_test())\n",
    "print(\"Time taken for the FPGA performance test: \" + str(time.time() - p_test_length))\n",
    "print(\"Time for each iteration: \" + str((time.time() - p_test_length) / 25))\n",
    "average_performance_score = sum(performance_score) / len(performance_score)\n",
    "print(\"Number of performance samples collected: {}\".format(len(performance_score)))\n",
    "print(\"Average performance: {} G-OPS\".format(average_performance_score))\n",
    "print(\"Maximum performance: {} G-OPS\".format(np.max(performance_score)))\n",
    "print(\"Standard deviation of performance: {} G-OPS\".format(np.std(performance_score)))\n",
    "print(\"Number of samples within 1 standard deviation of the mean performance: {}\".format(within_std(performance_score, average_performance_score)))\n",
    "print(\"Number of entries within 1 standard deviation of the maximum performance: {}\".format(within_std(performance_score, np.max(performance_score))))\n",
    "del(input_images)\n",
    "del(results)"
   ]
  },
  {
   "cell_type": "markdown",
   "id": "4230e963",
   "metadata": {},
   "source": [
    "**CPU Performance Test**"
   ]
  },
  {
   "cell_type": "code",
   "execution_count": 8,
   "id": "7918ded7",
   "metadata": {},
   "outputs": [
    {
     "name": "stdout",
     "output_type": "stream",
     "text": [
      "Beginning software performance test.\n",
      "Time taken for the software performance test: 591.1003868579865\n",
      "Time for each iteration: 23.64405774116516\n",
      "Number of performance samples collected: 25\n",
      "Average performance: 0.075277594339052 G-OPS\n",
      "Maximum performance: 0.07532152845163172 G-OPS\n",
      "Standard deviation of performance: 5.381938634194591e-05 G-OPS\n",
      "Number of samples within 1 standard deviation of the mean performance: 21\n",
      "Number of entries within 1 standard deviation of the maximum performance: 19\n"
     ]
    }
   ],
   "source": [
    "def software_performance_test():\n",
    "    performace_sw_start = time.time_ns()\n",
    "    for i in range(performace_input_len):\n",
    "        inference(images[i])\n",
    "    performace_sw_end = time.time_ns()\n",
    "    performance_sw_time = (performace_sw_end - performace_sw_start) / 10**9\n",
    "    return ((int_ops * performace_input_len) / performance_sw_time) / (10**9)\n",
    "\n",
    "print(\"Beginning software performance test.\")\n",
    "p_test_length = time.time()\n",
    "performance_score = []\n",
    "for i in range(25):\n",
    "    performance_score.append(software_performance_test())\n",
    "print(\"Time taken for the software performance test: \" + str(time.time() - p_test_length))\n",
    "print(\"Time for each iteration: \" + str((time.time() - p_test_length) / 25))\n",
    "average_performance_score = sum(performance_score) / len(performance_score)\n",
    "print(\"Number of performance samples collected: {}\".format(len(performance_score)))\n",
    "print(\"Average performance: {} G-OPS\".format(average_performance_score))\n",
    "print(\"Maximum performance: {} G-OPS\".format(np.max(performance_score)))\n",
    "print(\"Standard deviation of performance: {} G-OPS\".format(np.std(performance_score)))\n",
    "print(\"Number of samples within 1 standard deviation of the mean performance: {}\".format(within_std(performance_score, average_performance_score)))\n",
    "print(\"Number of entries within 1 standard deviation of the maximum performance: {}\".format(within_std(performance_score, np.max(performance_score))))"
   ]
  },
  {
   "cell_type": "markdown",
   "id": "d0b00e39",
   "metadata": {},
   "source": [
    "**FPGA Power Test**"
   ]
  },
  {
   "cell_type": "code",
   "execution_count": 9,
   "id": "45e39ab6",
   "metadata": {},
   "outputs": [
    {
     "name": "stdout",
     "output_type": "stream",
     "text": [
      "Press enter when you are ready to start the power draw test. Please record the nominal power draw before proceeding.\n",
      "FPGA power test has concluded.\n"
     ]
    }
   ],
   "source": [
    "power_images = images[0 : 1000]\n",
    "power_input_images = allocate(shape=((len(power_images), 28*28)), dtype=np.int32)\n",
    "power_results = allocate(shape=((len(power_images), 10)), dtype=np.int32)\n",
    "for itr, image in enumerate(power_images):\n",
    "    power_input_images[itr] = image.flatten().astype(np.int32)\n",
    "input(\"Press enter when you are ready to start the power draw test. Please record the nominal power draw before proceeding.\")\n",
    "timer = time.time()\n",
    "while (time.time() - timer) < 60:\n",
    "    hw.batch_inference(power_input_images, power_results)\n",
    "print(\"FPGA power test has concluded.\")\n",
    "del(power_input_images)\n",
    "del(power_results)"
   ]
  },
  {
   "cell_type": "markdown",
   "id": "440ebc20",
   "metadata": {},
   "source": [
    "**CPU Power Test**"
   ]
  },
  {
   "cell_type": "code",
   "execution_count": 10,
   "id": "392a51c0",
   "metadata": {},
   "outputs": [
    {
     "name": "stdout",
     "output_type": "stream",
     "text": [
      "Press enter when you are ready to start the power draw test. Please record the nominal power draw before proceeding.\n",
      "FPGA power test has concluded.\n"
     ]
    }
   ],
   "source": [
    "input(\"Press enter when you are ready to start the power draw test. Please record the nominal power draw before proceeding.\")\n",
    "timer = time.time()\n",
    "while (time.time() - timer) < 60:\n",
    "    for image in power_images:\n",
    "        inference(image)\n",
    "print(\"FPGA power test has concluded.\")"
   ]
  }
 ],
 "metadata": {
  "kernelspec": {
   "display_name": "Python 3 (ipykernel)",
   "language": "python",
   "name": "python3"
  },
  "language_info": {
   "codemirror_mode": {
    "name": "ipython",
    "version": 3
   },
   "file_extension": ".py",
   "mimetype": "text/x-python",
   "name": "python",
   "nbconvert_exporter": "python",
   "pygments_lexer": "ipython3",
   "version": "3.10.4"
  }
 },
 "nbformat": 4,
 "nbformat_minor": 5
}
